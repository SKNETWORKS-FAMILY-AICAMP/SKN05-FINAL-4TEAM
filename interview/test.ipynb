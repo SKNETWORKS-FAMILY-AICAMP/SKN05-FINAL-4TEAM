{
 "cells": [
  {
   "cell_type": "code",
   "execution_count": 10,
   "metadata": {},
   "outputs": [
    {
     "name": "stdout",
     "output_type": "stream",
     "text": [
      "Transcription: Error: 401 - \n"
     ]
    }
   ],
   "source": [
    "from utils import call_whisper\n",
    "\n",
    "audio_path =  r\"C:\\Users\\USER\\Desktop\\5. 백엔드\\ai_interview\\interview\\0009.wav\"\n",
    "result = call_whisper(audio_path)\n",
    "print(\"Transcription:\", result)"
   ]
  },
  {
   "cell_type": "code",
   "execution_count": null,
   "metadata": {},
   "outputs": [],
   "source": []
  }
 ],
 "metadata": {
  "kernelspec": {
   "display_name": "AIproject",
   "language": "python",
   "name": "python3"
  },
  "language_info": {
   "codemirror_mode": {
    "name": "ipython",
    "version": 3
   },
   "file_extension": ".py",
   "mimetype": "text/x-python",
   "name": "python",
   "nbconvert_exporter": "python",
   "pygments_lexer": "ipython3",
   "version": "3.12.4"
  }
 },
 "nbformat": 4,
 "nbformat_minor": 2
}
