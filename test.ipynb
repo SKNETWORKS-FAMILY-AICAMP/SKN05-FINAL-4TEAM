{
 "cells": [
  {
   "cell_type": "code",
   "execution_count": 1,
   "metadata": {},
   "outputs": [],
   "source": [
    "import os\n",
    "import django\n",
    "\n",
    "# Django 환경 설정 -> 테스트 파일같이 Django 외부에서 실행할 때는 필요함\n",
    "os.environ.setdefault('DJANGO_SETTINGS_MODULE', 'ai_interview.settings')\n",
    "django.setup()"
   ]
  },
  {
   "cell_type": "code",
   "execution_count": null,
   "metadata": {},
   "outputs": [
    {
     "ename": "",
     "evalue": "",
     "output_type": "error",
     "traceback": [
      "\u001b[1;31mRunning cells with 'base (Python 3.12.4)' requires the ipykernel package.\n",
      "\u001b[1;31mRun the following command to install 'ipykernel' into the Python environment. \n",
      "\u001b[1;31mCommand: 'conda install -n base ipykernel --update-deps --force-reinstall'"
     ]
    }
   ],
   "source": [
    "import interview.utils\n",
    "from interview.utils import whisper_call\n",
    "\n",
    "audio_path = \"https://raw.githubusercontent.com/SKNETWORKS-FAMILY-AICAMP/SKN05-FINAL-4TEAM/main/interview/0009.wav\"\n",
    "whisper_call(audio_path)"
   ]
  },
  {
   "cell_type": "code",
   "execution_count": 2,
   "metadata": {},
   "outputs": [
    {
     "name": "stderr",
     "output_type": "stream",
     "text": [
      "c:\\Users\\USER\\miniconda3\\envs\\AIproject\\Lib\\site-packages\\tqdm\\auto.py:21: TqdmWarning: IProgress not found. Please update jupyter and ipywidgets. See https://ipywidgets.readthedocs.io/en/stable/user_install.html\n",
      "  from .autonotebook import tqdm as notebook_tqdm\n"
     ]
    }
   ],
   "source": [
    "import interview.utils\n",
    "from interview.utils import LLM_call\n",
    "\n",
    "# 이력서 예제 텍스트\n",
    "resume_text_example = \"\"\"\n",
    "이름: 홍길동\n",
    "전화번호: 010-1234-5678\n",
    "이메일: example@example.com\n",
    "|\n",
    "주요 프로젝트 경험:\n",
    "- 프로젝트 이름: 온라인 쇼핑몰 시스템 개발\n",
    "- 목표: 쇼핑몰 사용자 경험 개선\n",
    "- 역할: 백엔드 개발 및 데이터베이스 설계\n",
    "- 사용 기술: Python, Django, PostgreSQL\n",
    "- 성과: 평균 페이지 로딩 속도 40% 개선\n",
    "\n",
    "문제 해결 사례:\n",
    "- 문제 상황: 기존 데이터 분석 프로세스가 비효율적이고 오류가 많았음\n",
    "- 해결 방법: 새로운 자동화 스크립트 작성\n",
    "- 결과: 분석 속도 2배 향상 및 오류 90% 감소\n",
    "\n",
    "팀워크 경험:\n",
    "- 팀 목표: 모바일 앱 출시를 위한 QA 테스트\n",
    "- 기여: 테스트 계획 작성 및 버그 추적\n",
    "- 결과: 예상 출시일보다 1주일 앞당겨 성공적으로 출시\n",
    "\n",
    "자기 개발 노력:\n",
    "- 활동: 데이터 과학 관련 Coursera 강의 수료 및 프로젝트 진행\n",
    "- 몰입한 이유: 데이터 분석 기술 향상을 위한 개인적인 목표\n",
    "- 결과: Python 기반 데이터 분석 능력 향상\n",
    "\"\"\"\n",
    "\n",
    "# 평가 기준 정의\n",
    "evaluation_metrics = [\"문제 해결 능력\", \"팀워크\", \"기술 깊이\", \"의사소통 능력\"]"
   ]
  },
  {
   "cell_type": "code",
   "execution_count": 2,
   "metadata": {},
   "outputs": [
    {
     "name": "stderr",
     "output_type": "stream",
     "text": [
      "c:\\Users\\USER\\miniconda3\\envs\\AIproject\\Lib\\site-packages\\tqdm\\auto.py:21: TqdmWarning: IProgress not found. Please update jupyter and ipywidgets. See https://ipywidgets.readthedocs.io/en/stable/user_install.html\n",
      "  from .autonotebook import tqdm as notebook_tqdm\n"
     ]
    }
   ],
   "source": [
    "import interview.utils\n",
    "from interview.utils import LLM_call\n",
    "\n",
    "# 이력서 데이터\n",
    "resume_text = \"\"\"\n",
    "2. 주요 프로젝트 경험\n",
    "\"AI 기반 고객 이탈 예측 시스템\" 프로젝트에서 고객 이탈 가능성을 예측하여 마케팅 전략을 수립하는 데 기여하였습니다. 저는 데이터 분석 및 머신러닝 모델 개발을 담당하였으며, Python, Django, PostgreSQL, TensorFlow와 같은 기술 스택을 활용하여 예측 시스템을 성공적으로 구축했습니다. 프로젝트의 결과로 고객 이탈 예측 정확도를 85%까지 끌어올렸고, 이를 통해 회사의 연 매출이 10% 증가하는 성과를 달성했습니다.\n",
    "\n",
    "3. 문제 해결 사례\n",
    "회사에서 사용하는 데이터 분석 도구의 속도가 느려 분석 작업에 많은 시간이 소요되는 문제가 있었습니다. 이를 해결하기 위해 데이터베이스 구조를 재설계하고, 쿼리 최적화를 위한 새로운 알고리즘을 도입하였습니다. 이 과정에서 팀원들과 협업하여 문제를 체계적으로 분석하고, 최적화 방안을 실행에 옮겼습니다. 그 결과 데이터 처리 속도가 40% 이상 향상되었으며, 분석 결과를 제공하는 데 걸리는 시간이 절반으로 단축되었습니다.\n",
    "\n",
    "4. 팀워크 경험\n",
    "대규모 팀 프로젝트 중, 역할 분담 과정에서 의견 충돌이 발생하여 일정이 지연되는 상황이 있었습니다. 이 문제를 해결하기 위해 모든 팀원이 참여하는 주간 회의를 제안하고, 프로젝트 목표와 개개인의 강점을 바탕으로 역할을 재배분하였습니다. 이 과정에서 저는 팀원 간의 의사소통을 조율하고, 각자의 의견을 균형 있게 반영하려고 노력했습니다. 최종적으로 프로젝트는 예정된 마감일에 맞춰 성공적으로 완료되었고, 팀원 간 협력과 신뢰를 강화할 수 있었습니다.\n",
    "\n",
    "5. 자기 개발 노력\n",
    "지난 1년간 머신러닝과 데이터 분석 역량을 강화하기 위해 Coursera와 Udemy에서 총 3개의 전문 과정을 수료하였습니다. 특히 \"Deep Learning Specialization\" 과정을 통해 인공신경망 모델 설계와 학습 과정을 심도 있게 이해할 수 있었습니다. 이러한 학습 경험을 바탕으로 간단한 예측 모델을 개발하여, 회사의 데이터 분석 프로세스를 자동화하는 데 성공하였고, 이를 통해 업무 효율성을 크게 향상시켰습니다.\n",
    "\"\"\"\n",
    "\n",
    "# 평가 항목\n",
    "evaluation_metrics = [\"질문 이해도\", \"논리적 전개\", \"내용의 구체성\", \"문제 해결 접근 방식\"]"
   ]
  },
  {
   "cell_type": "code",
   "execution_count": 3,
   "metadata": {},
   "outputs": [
    {
     "name": "stderr",
     "output_type": "stream",
     "text": [
      "_client.py          :1038 2025-01-31 17:31:56,275 HTTP Request: POST https://api.runpod.ai/v2/4oskowl4d4lsl3/openai/v1/chat/completions \"HTTP/1.1 200 OK\"\n"
     ]
    },
    {
     "data": {
      "text/plain": [
       "ChatCompletion(id='chatcmpl-8aa493a21f0343a493e1157af2043ef0', choices=[Choice(finish_reason='stop', index=0, logprobs=None, message=ChatCompletionMessage(content=' {\\n  \"questions\": [\\n    {\\n      \"type\": \"주요 프로젝트 경험 관련 질문\",\\n      \"question\": \"AI 기반 고객 이탈 예측 시스템 프로젝트에서 데이터 분석 및 머신러닝 모델 개발에 대한 자세한 내용을 알려주세요. 특히 이 프로젝트에서 사용한 Python, Django, PostgreSQL, TensorFlow와 같은 기술 스택에 대한 자세한 설명을 부탁드립니다.\"\\n    },\\n    {\\n      \"type\": \"주요 프로젝트 경험 관련 질문\",\\n      \"question\": \"고객 이탈 가능성을 예측하여 마케팅 전략을 수립하는 데 기여한 프로젝트의 결과를 구체적으로 설명해주세요. 특히 이 프로젝트를 통해 회사의 연 매출이 10% 증가한 성과에 대해 설명해주시길 바랍니다.\"\\n    },\\n    {\\n      \"type\": \"문제 해결 사례 기반 질문\",\\n      \"question\": \"회사에서 사용하는 데이터 분석 도구의 속도가 느려 분석 작업에 많은 시간이 소요되는 문제를 해결하기 위해 데이터베이스 구조를 재설계하고, 쿼리 최적화를 위한 새로운 알고리즘을 도입한 과정에 대해 서술해주세요.\"\\n    },\\n    {\\n      \"type\": \"문제 해결 사례 기반 질문\",\\n      \"question\": \"팀원들과 협업하여 문제를 체계적으로 분석하고, 최적화 방안을 실행에 옮겼는 과정에서 가장 큰 도전과 해결한 방법을 구체적으로 설명해주세요.\"\\n    },\\n    {\\n      \"type\": \"팀워크 경험 관련 질문\",\\n      \"question\": \"역할 분담 과정에서 의견 충돌이 발생하여 일정이 지연되는 상황을 해결하기 위해 모든 팀원이 참여하는 주간 회의를 제안하고, 프로젝트 목표와 개개인의 강점을 바탕으로 역할을 재배분하였는데, 이때 주요 도전과 해결한 방법을 설명해주세요.\"\\n    },\\n    {\\n      \"type\": \"팀워크 경험 관련 질문\",\\n      \"question\": \"팀원 간 의사소통을 조율하고, 각자의 의견을 균형 있게 반영하려고 노력했던 과정에서 발견한 가장 큰 도전과 그를 해결한 방법을 구체적으로 설명해주세요.\"\\n    },\\n    {\\n      \"type\": \"자기 개발 노력 관련 질문\",\\n      \"question\": \"지난 1년간 머신러닝과 데이터 분석 역량을 강화하기 위해 Coursera와 Udemy에서 총 3개의 전문 과정을 수료하였습니다. 이 과정에서 가장 유용하게 사용한 지식과 그를 적용한 실행 사례를 구체적으로 설명해주세요.\"\\n    },\\n    {\\n      \"type\": \"자기 개발 노력 관련 질문\",\\n      \"question\": \"머신러닝과 데이터 분석 역량을 강화하는 과정에서 만난 가장 큰 도전과 그를 해결한 방법을 설명해주세요. 특히 \\'Deep Learning Specialization\\' 과정을 통해 인공신경망 모델 설계와 학습 과정을 심도 있게 이해한 것이 도움이 되었다면 어떤 부분에서 그것을 활용하여 업무에 도움이 되었는지 설명해주시길 바랍니다.\"\\n    }\\n  ]\\n}', refusal=None, role='assistant', audio=None, function_call=None, tool_calls=[]), stop_reason=None)], created=1738312291, model='openchat/openchat-3.5-0106', object='chat.completion', service_tier=None, system_fingerprint=None, usage=CompletionUsage(completion_tokens=1290, prompt_tokens=1491, total_tokens=2781, completion_tokens_details=None, prompt_tokens_details=None), prompt_logprobs=None)"
      ]
     },
     "execution_count": 3,
     "metadata": {},
     "output_type": "execute_result"
    }
   ],
   "source": [
    "LLM_call(resume_text, evaluation_metrics)"
   ]
  },
  {
   "cell_type": "code",
   "execution_count": null,
   "metadata": {},
   "outputs": [],
   "source": []
  }
 ],
 "metadata": {
  "kernelspec": {
   "display_name": "AIproject",
   "language": "python",
   "name": "python3"
  },
  "language_info": {
   "codemirror_mode": {
    "name": "ipython",
    "version": 3
   },
   "file_extension": ".py",
   "mimetype": "text/x-python",
   "name": "python",
   "nbconvert_exporter": "python",
   "pygments_lexer": "ipython3",
   "version": "3.12.4"
  }
 },
 "nbformat": 4,
 "nbformat_minor": 2
}
