{
 "cells": [
  {
   "cell_type": "code",
   "execution_count": 2,
   "metadata": {},
   "outputs": [],
   "source": [
    "import os\n",
    "import django\n",
    "\n",
    "# Django 환경 설정 -> 테스트 파일같이 Django 외부에서 실행할 때는 필요함\n",
    "os.environ.setdefault('DJANGO_SETTINGS_MODULE', 'ai_interview.settings')\n",
    "django.setup()"
   ]
  },
  {
   "cell_type": "code",
   "execution_count": 4,
   "metadata": {},
   "outputs": [
    {
     "data": {
      "text/plain": [
       "{'detected_language': 'ko',\n",
       " 'device': 'cuda',\n",
       " 'model': 'medium',\n",
       " 'segments': [{'avg_logprob': -0.20846036585365854,\n",
       "   'compression_ratio': 1.1044776119402986,\n",
       "   'end': 3.4,\n",
       "   'id': 1,\n",
       "   'no_speech_prob': 0.09893798828125,\n",
       "   'seek': 629,\n",
       "   'start': 0,\n",
       "   'temperature': 0,\n",
       "   'text': ' 방문교사가 직접 방문 드린 뒤에 저희 쪽 교재를 가지고',\n",
       "   'tokens': [50364,\n",
       "    10006,\n",
       "    37639,\n",
       "    18084,\n",
       "    34435,\n",
       "    34196,\n",
       "    10006,\n",
       "    37639,\n",
       "    13356,\n",
       "    12811,\n",
       "    40856,\n",
       "    14594,\n",
       "    31790,\n",
       "    24915,\n",
       "    1574,\n",
       "    43773,\n",
       "    21361,\n",
       "    50534]},\n",
       "  {'avg_logprob': -0.20846036585365854,\n",
       "   'compression_ratio': 1.1044776119402986,\n",
       "   'end': 6.28,\n",
       "   'id': 2,\n",
       "   'no_speech_prob': 0.09893798828125,\n",
       "   'seek': 629,\n",
       "   'start': 3.4,\n",
       "   'temperature': 0,\n",
       "   'text': ' 아이의 발달 사항을 체크한 후에 단계를 정해드립니다.',\n",
       "   'tokens': [50534,\n",
       "    25130,\n",
       "    2785,\n",
       "    13825,\n",
       "    24673,\n",
       "    4744,\n",
       "    43359,\n",
       "    1638,\n",
       "    39667,\n",
       "    12504,\n",
       "    3049,\n",
       "    21638,\n",
       "    1517,\n",
       "    16818,\n",
       "    1155,\n",
       "    21273,\n",
       "    4980,\n",
       "    14841,\n",
       "    6300,\n",
       "    34328,\n",
       "    13,\n",
       "    50678]}],\n",
       " 'transcription': '방문교사가 직접 방문 드린 뒤에 저희 쪽 교재를 가지고\\n아이의 발달 사항을 체크한 후에 단계를 정해드립니다.',\n",
       " 'translation': None}"
      ]
     },
     "execution_count": 4,
     "metadata": {},
     "output_type": "execute_result"
    }
   ],
   "source": [
    "import interview.utils\n",
    "from interview.utils import whisper_call\n",
    "\n",
    "audio_path = \"https://raw.githubusercontent.com/SKNETWORKS-FAMILY-AICAMP/SKN05-FINAL-4TEAM/main/interview/0009.wav\"\n",
    "whisper_call(audio_path)"
   ]
  },
  {
   "cell_type": "code",
   "execution_count": null,
   "metadata": {},
   "outputs": [],
   "source": []
  }
 ],
 "metadata": {
  "kernelspec": {
   "display_name": "AIproject",
   "language": "python",
   "name": "python3"
  },
  "language_info": {
   "codemirror_mode": {
    "name": "ipython",
    "version": 3
   },
   "file_extension": ".py",
   "mimetype": "text/x-python",
   "name": "python",
   "nbconvert_exporter": "python",
   "pygments_lexer": "ipython3",
   "version": "3.12.4"
  }
 },
 "nbformat": 4,
 "nbformat_minor": 2
}
